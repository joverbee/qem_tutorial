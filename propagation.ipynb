{
 "cells": [
  {
   "cell_type": "markdown",
   "id": "coordinated-criminal",
   "metadata": {},
   "source": [
    "# Beam propagation demo\n",
    "Example code to demonstrate the propagation of all kinds of weird beams that could be made inside a TEM (and originate in original work in optics)  \n",
    "(c) 2022 Jo Verbeeck  \n",
    "EMAT, University of Antwerp, Belgium  \n",
    "jo.verbeeck@uantwerp.be  \n",
    "\n",
    "use your imagination to expand and surprise me with new ideas/applications!"
   ]
  },
  {
   "cell_type": "code",
   "execution_count": 1,
   "id": "welsh-roman",
   "metadata": {},
   "outputs": [],
   "source": [
    "import numpy as np\n",
    "import matplotlib.cm as cm\n",
    "import matplotlib.pyplot as plt\n",
    "import matplotlib as mpl"
   ]
  },
  {
   "cell_type": "code",
   "execution_count": 2,
   "id": "substantial-mozambique",
   "metadata": {},
   "outputs": [],
   "source": [
    "#create sampling grid\n",
    "kpoints=512 #the sampling\n",
    "\n",
    "#some parameters of the microscope\n",
    "lmbda=2e-12 #wavelength of the fast electrons [m]\n",
    "k0=2*np.pi/lmbda #wavevector of the fast electrons [1/m]\n",
    "alpha=21.4e-3 #the half angle of the final probe in the sample plane [rad] (can be typically varied in the condensor settings for STEM mode, bigger gives smaller probes as long as aberrations allow)\n",
    "#alpha=0.2e-3 #the half angle of the final probe in the sample plane [rad] (can be typically varied in the condensor settings for STEM mode, bigger gives smaller probes as long as aberrations allow)\n",
    "\n",
    "#set up a grid in reciprocal space (the space of the grating, typically the condensor plane)\n",
    "oversample=4 #the higher this is, the better the sampling in real space, but the worse in k space\n",
    "kmax=k0*oversample*alpha #highest transverse k vector that we will take into acount\n",
    "k=np.linspace(-kmax,kmax,kpoints)\n",
    "[Kx,Ky]=np.meshgrid(k,k) #create 2D grid of k points\n",
    "K=np.sqrt(Kx**2+Ky**2)\n",
    "Theta=K/k0 #and convert to angles\n",
    "PHI=np.arctan2(Kx,Ky) #angle in the 2D plane\n",
    "\n",
    "#set up a grid in real space (the space of the final probe, typically the sample plane)\n",
    "xmax=kpoints/kmax\n",
    "x=np.linspace(-xmax,xmax,kpoints)\n",
    "[X,Y]=np.meshgrid(x,x) #and create a 2D grid with it\n",
    "R=np.sqrt(X**2+Y**2)\n",
    "rdisc=2/(k0*alpha)\n",
    "\n",
    "outermask=Theta<alpha #clip any reciprocal components above Kmax, needed as the grating will enforce this maximum anyway\n"
   ]
  },
  {
   "cell_type": "code",
   "execution_count": 103,
   "id": "developing-surgeon",
   "metadata": {},
   "outputs": [],
   "source": [
    "#a set of functions to create specific electron waves\n",
    "#to do: make cleaner passing of parameters (less hard coding and more unified)\n",
    "def circular_wave(Theta,alpha):\n",
    "    #conventional idealised (no aberrations) STEM beam from a circular aperture\n",
    "    #easy to add aberrations as well\n",
    "    wave=Theta<alpha\n",
    "    return wave\n",
    "\n",
    "def vortex_wave(Theta,alpha,PHI,m):\n",
    "    #conventional idealised (no aberrations) STEM beam from a circular aperture\n",
    "    #easy to add aberrations as well\n",
    "    wave=(Theta<alpha)*np.exp(1j*m*PHI)\n",
    "    return wave\n",
    "\n",
    "def airy_wave(Theta,alpha,Kx,Ky,k0):\n",
    "    #approximation to an Airy wave (no amplitude modulation)\n",
    "    a=2*(1/(k0*alpha)**3) #strength factor determining the focal range and size of the probe\n",
    "    outermask=Theta<alpha\n",
    "    wave=outermask*np.exp(1j*2*np.pi*a*((Kx+Ky)**3+(Kx-Ky)**3))\n",
    "    return wave\n",
    "    \n",
    "def bessel_wave(K,PHI,k0,alpha,m,ringwidth):\n",
    "    #an approximate Bessel beam (a ring of finite width in k space, mathematically should be infinitely thin ring)        \n",
    "    #with optional topological charge of m\n",
    "    kouter=k0*alpha\n",
    "    kinner=k0*(alpha-ringwidth)\n",
    "    wave=((K>kinner)*(K<kouter))*np.exp(1j*m*PHI) #a ring like illumination\n",
    "    return wave\n",
    "\n",
    "def helicon_wave(K,PHI,k0,alpha1,alpha2,m1,m2,ringwidth):\n",
    "    #attempt to make a snake bessel wave (not sure it is 100% correct)\n",
    "    #by interfering 2 bessel beams with different topological charge m1 and m2 and different opening angle\n",
    "    #waves, rotation speed of the helix is dependent on (k1^2-k2^2)/(m1-m2)\n",
    "    #see Patterson paper \n",
    "    w1=ringwidth\n",
    "    w2=ringwidth*alpha1/alpha2 #to give both bessels same total intensity\n",
    "    bessel1=bessel_wave(K,PHI,k0,alpha1,m1,w1)\n",
    "    bessel2=bessel_wave(K,PHI,k0,alpha2,m2,w2)\n",
    "    wave=bessel1+bessel2      \n",
    "    return wave\n",
    "\n",
    "def axicon_wave(K,k0,alpha,strength):\n",
    "    #quasi Bessel produced with an Axicon (doesn't seem to do what I want)\n",
    "    a=strength/(k0*alpha) #strength of the axicon\n",
    "    wave=outermask*np.exp(1j*2*np.pi*a*K)\n",
    "    return wave\n",
    "        \n",
    "def nholes_wave(K,k0,alpha,n):        \n",
    "    #nxnplane waves...(nxn holes in an aperture)\n",
    "    ksize=k0*alpha/(3*n)\n",
    "    wave=np.zeros(K.shape)\n",
    "    for i in range(n):\n",
    "        for j in range(n):\n",
    "            ki=(i+0.5-n/2)*k0*alpha/n\n",
    "            kj=(j+0.5-n/2)*k0*alpha/n\n",
    "            Kij=np.sqrt((Kx+ki)**2+(Ky+kj)**2)\n",
    "            holeij=Kij<ksize\n",
    "            wave=wave+holeij\n",
    "    return wave"
   ]
  },
  {
   "cell_type": "code",
   "execution_count": 43,
   "id": "mediterranean-index",
   "metadata": {},
   "outputs": [],
   "source": [
    "def phplotrgb(A): #a helper function to create rgb values in imshow to recreate a phaseplot\n",
    "    #the color represents the phase angle and the intensity is related to the amplitude\n",
    "    amplitudescaled=np.abs(A)/np.max(np.abs(A))\n",
    "    cmap = mpl.cm.hsv #this is a cyclic color map which is nice for phase\n",
    "    norm = mpl.colors.Normalize(-np.pi, np.pi)\n",
    "    rgbmatrix = cmap((np.angle(A)+np.pi)/(2*np.pi)) # convert phase values to rgb\n",
    "    #but now scale intensity of the rgb values\n",
    "    rgbmatrix[:,:,0]=rgbmatrix[:,:,0]*amplitudescaled\n",
    "    rgbmatrix[:,:,1]=rgbmatrix[:,:,1]*amplitudescaled\n",
    "    rgbmatrix[:,:,2]=rgbmatrix[:,:,2]*amplitudescaled\n",
    "    return rgbmatrix\n"
   ]
  },
  {
   "cell_type": "code",
   "execution_count": 106,
   "id": "trained-mouse",
   "metadata": {},
   "outputs": [
    {
     "data": {
      "image/png": "[encoded data removed]",
      "text/plain": [
       "<Figure size 432x288 with 1 Axes>"
      ]
     },
     "metadata": {
      "needs_background": "light"
     },
     "output_type": "display_data"
    }
   ],
   "source": [
    "#choose a wave and plot it\n",
    "#uncomment any of those to make a choice (see for more options the defined functions above and feel free to create more or to\n",
    "#play with variables)\n",
    "\n",
    "#vortex\n",
    "#m=1\n",
    "#wave=vortex_wave(Theta,alpha,PHI,m)\n",
    "\n",
    "#round aperture\n",
    "#wave=circular_wave(Theta,alpha)\n",
    "\n",
    "#airy wave\n",
    "#wave=airy_wave(Theta,alpha,Kx,Ky,k0)\n",
    "\n",
    "#bessel wave\n",
    "#m=0 #optional to give vorticity to Bessel wave\n",
    "#ringwidth=0.1*alpha #the width of the ring, an ideal bessel has ringwidth=0, making it wider limits the range over\n",
    "#which the Bessel doesnt diverge. Of course in reality zero width would pass no electrons and is only relevant from an \n",
    "#academc point of view\n",
    "#wave=bessel_wave(K,PHI,k0,alpha,m,ringwidth)\n",
    "\n",
    "#helicon wave\n",
    "#alpha1=alpha\n",
    "#alpha2=0.8*alpha#\n",
    "#m1=0\n",
    "#m2=-1\n",
    "#ringwidth=0.05*alpha\n",
    "#wave=helicon_wave(K,PHI,k0,alpha1,alpha2,m1,m2,ringwidth)\n",
    "\n",
    "#axicon, this is an approximation to an analytical bessel with infinite thin ring\n",
    "#strength=10\n",
    "#wave=axicon_wave(K,k0,alpha,strength)\n",
    "\n",
    "#create nxn holes\n",
    "n=6\n",
    "wave=nholes_wave(K,k0,alpha,n)   \n",
    "\n",
    "#show phase and amplitude of the wave in a fancy plot\n",
    "fig, ax = plt.subplots()\n",
    "im = ax.imshow(phplotrgb(wave),\n",
    "               origin='lower', extent=[-kmax, kmax, -kmax, kmax])\n",
    "plt.title('Wave in the condenser plane')\n",
    "plt.xlabel('kx [1/m]')\n",
    "plt.ylabel('ky [1/m]')\n",
    "ax.set_xlim(-k0*alpha, k0*alpha)\n",
    "ax.set_ylim(-k0*alpha, k0*alpha)\n",
    "plt.show()"
   ]
  },
  {
   "cell_type": "code",
   "execution_count": 94,
   "id": "smaller-stage",
   "metadata": {},
   "outputs": [],
   "source": [
    "#now calculate the distribution near focus in real space\n",
    "#shift up and down the focal plane using a defocus term in the condensor\n",
    "#plane (Fresnel propagator method). This only works for a 'reasonable'\n",
    "#defocus range depending heavily on sampling\n",
    "focusrange=200e-9\n",
    "focussteps=200\n",
    "df=np.linspace(-focusrange/2,focusrange/2,focussteps)\n",
    "I=np.zeros((kpoints,kpoints,focussteps)) #preallocate memory for I (speed)\n",
    "for k in range(focussteps):   \n",
    "    defocus=np.exp(1j*k0*(1/2)*Theta**2*df[k])        \n",
    "    resultwave=np.fft.fftshift(np.fft.fft2(np.fft.fftshift(wave*defocus))) #Fourier transforming brings us to the observation plane\n",
    "    I[:,:,k]=np.abs(resultwave)**2 #store it in a 3D dataset\n",
    "    "
   ]
  },
  {
   "cell_type": "code",
   "execution_count": 95,
   "id": "second-transmission",
   "metadata": {},
   "outputs": [
    {
     "data": {
      "image/png": "[encoded data removed]",
      "text/plain": [
       "<Figure size 432x288 with 1 Axes>"
      ]
     },
     "metadata": {
      "needs_background": "light"
     },
     "output_type": "display_data"
    }
   ],
   "source": [
    "#make cross sections through this 3D cube\n",
    "fig, ax = plt.subplots()\n",
    "ind=int(kpoints/2)\n",
    "zslice=np.transpose(np.squeeze(I[ind,:,:]))\n",
    "im = ax.imshow(zslice,\n",
    "               origin='lower', extent=[-xmax, xmax, -focusrange/2, focusrange/2],\n",
    "               vmax=np.max(zslice), vmin=np.min(zslice), aspect='auto')\n",
    "plt.title('slice through 3D intensity')\n",
    "plt.xlabel('x [m]')\n",
    "plt.ylabel('z [m]')\n",
    "ax.set_xlim(-xmax, xmax)\n",
    "ax.set_ylim(-focusrange/2, focusrange/2)\n",
    "plt.show()"
   ]
  }
 ],
 "metadata": {
  "kernelspec": {
   "display_name": "Python 3",
   "language": "python",
   "name": "python3"
  },
  "language_info": {
   "codemirror_mode": {
    "name": "ipython",
    "version": 3
   },
   "file_extension": ".py",
   "mimetype": "text/x-python",
   "name": "python",
   "nbconvert_exporter": "python",
   "pygments_lexer": "ipython3",
   "version": "3.8.5"
  }
 },
 "nbformat": 4,
 "nbformat_minor": 5
}
